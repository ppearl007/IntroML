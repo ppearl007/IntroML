{
 "cells": [
  {
   "cell_type": "markdown",
   "id": "5ea7d1e1",
   "metadata": {},
   "source": [
    "Life Expectancy based on BMI"
   ]
  },
  {
   "cell_type": "code",
   "execution_count": 1,
   "id": "3aecd41d",
   "metadata": {},
   "outputs": [
    {
     "data": {
      "text/html": [
       "<div>\n",
       "<style scoped>\n",
       "    .dataframe tbody tr th:only-of-type {\n",
       "        vertical-align: middle;\n",
       "    }\n",
       "\n",
       "    .dataframe tbody tr th {\n",
       "        vertical-align: top;\n",
       "    }\n",
       "\n",
       "    .dataframe thead th {\n",
       "        text-align: right;\n",
       "    }\n",
       "</style>\n",
       "<table border=\"1\" class=\"dataframe\">\n",
       "  <thead>\n",
       "    <tr style=\"text-align: right;\">\n",
       "      <th></th>\n",
       "      <th>Country</th>\n",
       "      <th>Life expectancy</th>\n",
       "      <th>BMI</th>\n",
       "    </tr>\n",
       "  </thead>\n",
       "  <tbody>\n",
       "    <tr>\n",
       "      <th>0</th>\n",
       "      <td>Afghanistan</td>\n",
       "      <td>52.8</td>\n",
       "      <td>20.62058</td>\n",
       "    </tr>\n",
       "    <tr>\n",
       "      <th>1</th>\n",
       "      <td>Albania</td>\n",
       "      <td>76.8</td>\n",
       "      <td>26.44657</td>\n",
       "    </tr>\n",
       "    <tr>\n",
       "      <th>2</th>\n",
       "      <td>Algeria</td>\n",
       "      <td>75.5</td>\n",
       "      <td>24.59620</td>\n",
       "    </tr>\n",
       "    <tr>\n",
       "      <th>3</th>\n",
       "      <td>Andorra</td>\n",
       "      <td>84.6</td>\n",
       "      <td>27.63048</td>\n",
       "    </tr>\n",
       "    <tr>\n",
       "      <th>4</th>\n",
       "      <td>Angola</td>\n",
       "      <td>56.7</td>\n",
       "      <td>22.25083</td>\n",
       "    </tr>\n",
       "  </tbody>\n",
       "</table>\n",
       "</div>"
      ],
      "text/plain": [
       "       Country  Life expectancy       BMI\n",
       "0  Afghanistan             52.8  20.62058\n",
       "1      Albania             76.8  26.44657\n",
       "2      Algeria             75.5  24.59620\n",
       "3      Andorra             84.6  27.63048\n",
       "4       Angola             56.7  22.25083"
      ]
     },
     "execution_count": 1,
     "metadata": {},
     "output_type": "execute_result"
    }
   ],
   "source": [
    "import pandas as pd\n",
    "\n",
    "#read csv file\n",
    "bmi_life_data = pd.read_csv(\"bmi_and_life_expectancy.csv\")\n",
    "bmi_life_data.shape\n",
    "bmi_life_data.head()"
   ]
  },
  {
   "cell_type": "code",
   "execution_count": 30,
   "id": "f035e867",
   "metadata": {},
   "outputs": [
    {
     "data": {
      "text/plain": [
       "(163, 1)"
      ]
     },
     "execution_count": 30,
     "metadata": {},
     "output_type": "execute_result"
    }
   ],
   "source": [
    "# Split data to train and test set before training and checking score\n",
    "from sklearn.model_selection import train_test_split\n",
    "\n",
    "X = bmi_life_data[['BMI']]\n",
    "y = bmi_life_data[['Life expectancy']]\n",
    "\n",
    "X_train, X_test, y_train, y_test = train_test_split(X, y, test_size=0.33)\n"
   ]
  },
  {
   "cell_type": "code",
   "execution_count": 3,
   "id": "d45cc4e4",
   "metadata": {},
   "outputs": [
    {
     "data": {
      "text/plain": [
       "LinearRegression()"
      ]
     },
     "execution_count": 3,
     "metadata": {},
     "output_type": "execute_result"
    }
   ],
   "source": [
    "#Build linear regression model and fit model to data\n",
    "\n",
    "from sklearn.linear_model import LinearRegression\n",
    "bmi_life_model = LinearRegression()\n",
    "bmi_life_model.fit(X_train, y_train)"
   ]
  },
  {
   "cell_type": "code",
   "execution_count": 4,
   "id": "c73b2caf",
   "metadata": {},
   "outputs": [
    {
     "data": {
      "text/plain": [
       "0.4173568685709028"
      ]
     },
     "execution_count": 4,
     "metadata": {},
     "output_type": "execute_result"
    }
   ],
   "source": [
    "bmi_life_model.score(X_train, y_train)"
   ]
  },
  {
   "cell_type": "code",
   "execution_count": 5,
   "id": "c5e41c7b",
   "metadata": {},
   "outputs": [
    {
     "data": {
      "text/plain": [
       "0.46728770095853855"
      ]
     },
     "execution_count": 5,
     "metadata": {},
     "output_type": "execute_result"
    }
   ],
   "source": [
    "bmi_life_model.score(X_test, y_test)"
   ]
  },
  {
   "cell_type": "code",
   "execution_count": 39,
   "id": "6eb0bbcd",
   "metadata": {},
   "outputs": [
    {
     "name": "stdout",
     "output_type": "stream",
     "text": [
      "[[61.41748108]]\n"
     ]
    }
   ],
   "source": [
    "#Predict\n",
    "laos_life_exp = bmi_life_model.predict([[21.07931]])\n",
    "print(laos_life_exp)"
   ]
  },
  {
   "cell_type": "code",
   "execution_count": 11,
   "id": "11474647",
   "metadata": {},
   "outputs": [
    {
     "data": {
      "text/plain": [
       "0.4173509629283765"
      ]
     },
     "execution_count": 11,
     "metadata": {},
     "output_type": "execute_result"
    }
   ],
   "source": [
    "#Use a lasso L1 model instead and check the score \n",
    "\n",
    "from sklearn import linear_model\n",
    "lasso_reg_model = linear_model.Lasso(alpha=.05, max_iter=100)\n",
    "lasso_reg_model.fit(X_train, y_train)\n",
    "\n",
    "lasso_reg_model.score(X_train, y_train)"
   ]
  },
  {
   "cell_type": "code",
   "execution_count": 7,
   "id": "b2f28c9b",
   "metadata": {},
   "outputs": [
    {
     "data": {
      "text/plain": [
       "0.46722231289182037"
      ]
     },
     "execution_count": 7,
     "metadata": {},
     "output_type": "execute_result"
    }
   ],
   "source": [
    "# check the score on unseen test using lasso model\n",
    "lasso_reg_model.score(X_test, y_test)"
   ]
  },
  {
   "cell_type": "code",
   "execution_count": 8,
   "id": "8fb56972",
   "metadata": {},
   "outputs": [
    {
     "data": {
      "text/plain": [
       "0.4173568580577417"
      ]
     },
     "execution_count": 8,
     "metadata": {},
     "output_type": "execute_result"
    }
   ],
   "source": [
    "#Use a Ridge L2 model instead and test the accuracy \n",
    "\n",
    "from sklearn.linear_model import Ridge\n",
    "ridge_reg_model = Ridge(alpha=0.1)\n",
    "ridge_reg_model.fit(X_train, y_train)\n",
    "\n",
    "ridge_reg_model.score(X_train, y_train)"
   ]
  },
  {
   "cell_type": "code",
   "execution_count": 9,
   "id": "1ed41e88",
   "metadata": {},
   "outputs": [
    {
     "data": {
      "text/plain": [
       "0.46726012335973366"
      ]
     },
     "execution_count": 9,
     "metadata": {},
     "output_type": "execute_result"
    }
   ],
   "source": [
    "# check the score on unseen test using Ridge model\n",
    "ridge_reg_model.score(X_test, y_test)"
   ]
  },
  {
   "cell_type": "code",
   "execution_count": 34,
   "id": "5684c912",
   "metadata": {},
   "outputs": [
    {
     "data": {
      "text/plain": [
       "<AxesSubplot:xlabel='BMI', ylabel='Life expectancy'>"
      ]
     },
     "execution_count": 34,
     "metadata": {},
     "output_type": "execute_result"
    },
    {
     "data": {
      "image/png": "[encoded data removed]",
      "text/plain": [
       "<Figure size 432x288 with 1 Axes>"
      ]
     },
     "metadata": {
      "needs_background": "light"
     },
     "output_type": "display_data"
    }
   ],
   "source": [
    "import matplotlib.pyplot as plt\n",
    "bmi_life_data.plot.scatter(x='BMI', y='Life expectancy')\n"
   ]
  },
  {
   "cell_type": "code",
   "execution_count": 37,
   "id": "730e7607",
   "metadata": {},
   "outputs": [
    {
     "data": {
      "text/plain": [
       "[<matplotlib.lines.Line2D at 0x7fa9892b8d90>]"
      ]
     },
     "execution_count": 37,
     "metadata": {},
     "output_type": "execute_result"
    },
    {
     "data": {
      "image/png": "[encoded data removed]",
      "text/plain": [
       "<Figure size 432x288 with 1 Axes>"
      ]
     },
     "metadata": {
      "needs_background": "light"
     },
     "output_type": "display_data"
    }
   ],
   "source": [
    "plt.scatter(X_train, y_train, color = \"red\")\n",
    "plt.plot(X_train, bmi_life_model.predict(X_train), color = \"green\")"
   ]
  },
  {
   "cell_type": "code",
   "execution_count": null,
   "id": "b27aa1dc",
   "metadata": {},
   "outputs": [],
   "source": []
  },
  {
   "cell_type": "code",
   "execution_count": null,
   "id": "8cc2e9a8",
   "metadata": {},
   "outputs": [],
   "source": []
  }
 ],
 "metadata": {
  "kernelspec": {
   "display_name": "Python 3 (ipykernel)",
   "language": "python",
   "name": "python3"
  },
  "language_info": {
   "codemirror_mode": {
    "name": "ipython",
    "version": 3
   },
   "file_extension": ".py",
   "mimetype": "text/x-python",
   "name": "python",
   "nbconvert_exporter": "python",
   "pygments_lexer": "ipython3",
   "version": "3.9.7"
  }
 },
 "nbformat": 4,
 "nbformat_minor": 5
}
